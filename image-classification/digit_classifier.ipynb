{
 "cells": [
  {
   "cell_type": "markdown",
   "id": "47e2270c",
   "metadata": {},
   "source": [
    "# Imports Explanation\n",
    "These import PyTorch modules for building and training the CNN, loading MNIST data, and visualizing results. torch.nn provides layers like Conv2D; torchvision handles datasets and transforms for image preprocessing."
   ]
  },
  {
   "cell_type": "code",
   "execution_count": 1,
   "id": "9c359c81",
   "metadata": {},
   "outputs": [],
   "source": [
    "import torch\n",
    "import torch.nn as nn\n",
    "import torch.nn.functional as F\n",
    "import torch.optim as optim\n",
    "from torch.utils.data import DataLoader\n",
    "import torchvision.datasets as datasets\n",
    "import torchvision.transforms as transforms\n",
    "import matplotlib.pyplot as plt\n",
    "import numpy as np"
   ]
  },
  {
   "cell_type": "markdown",
   "id": "bf9d518b",
   "metadata": {},
   "source": [
    "# Data Loading Explanation\n",
    "MNIST is loaded with transforms to convert images to tensors and normalize (improves convergence). DataLoaders batch data (64 at a time) for efficient training; shuffle randomizes order to avoid bias."
   ]
  },
  {
   "cell_type": "code",
   "execution_count": 2,
   "id": "ad1aa998",
   "metadata": {},
   "outputs": [
    {
     "name": "stderr",
     "output_type": "stream",
     "text": [
      "100%|██████████| 9.91M/9.91M [00:01<00:00, 6.79MB/s]\n",
      "100%|██████████| 28.9k/28.9k [00:00<00:00, 963kB/s]\n",
      "100%|██████████| 1.65M/1.65M [00:00<00:00, 9.16MB/s]\n",
      "100%|██████████| 4.54k/4.54k [00:00<00:00, 4.53MB/s]\n"
     ]
    },
    {
     "data": {
      "image/png": "[encoded data removed]",
      "text/plain": [
       "<Figure size 640x480 with 1 Axes>"
      ]
     },
     "metadata": {},
     "output_type": "display_data"
    }
   ],
   "source": [
    "transform = transforms.Compose([transforms.ToTensor(), transforms.Normalize((0.1307,), (0.3081,))])  # Mean and std for MNIST\n",
    "train_dataset = datasets.MNIST(root='./data', train=True, download=True, transform=transform)\n",
    "test_dataset = datasets.MNIST(root='./data', train=False, download=True, transform=transform)\n",
    "train_loader = DataLoader(train_dataset, batch_size=64, shuffle=True)\n",
    "test_loader = DataLoader(test_dataset, batch_size=64, shuffle=False)\n",
    "# View sample\n",
    "images, labels = next(iter(train_loader))\n",
    "plt.imshow(images[0].squeeze(), cmap='gray')\n",
    "plt.title(f'Label: {labels[0]}')\n",
    "plt.show()"
   ]
  },
  {
   "cell_type": "markdown",
   "id": "29eb87e0",
   "metadata": {},
   "source": [
    "# Model Building Explanation\n",
    "SimpleCNN is a PyTorch module with convolutional layers for feature detection, pooling to downsample, dropout to avoid overfitting, and fully connected layers for classification (10 classes: digits 0-9)."
   ]
  },
  {
   "cell_type": "code",
   "execution_count": 3,
   "id": "d96b7f2a",
   "metadata": {},
   "outputs": [],
   "source": [
    "class SimpleCNN(nn.Module):\n",
    "    def __init__(self):\n",
    "        super(SimpleCNN, self).__init__()\n",
    "        self.conv1 = nn.Conv2d(1, 32, kernel_size=3, padding=1)\n",
    "        self.pool = nn.MaxPool2d(2, 2)\n",
    "        self.dropout1 = nn.Dropout(0.25)\n",
    "        self.fc1 = nn.Linear(32 * 14 * 14, 128)  # After conv and pool: 28x28 -> 14x14\n",
    "        self.dropout2 = nn.Dropout(0.5)\n",
    "        self.fc2 = nn.Linear(128, 10)\n",
    "    \n",
    "    def forward(self, x):\n",
    "        x = self.pool(F.relu(self.conv1(x)))\n",
    "        x = self.dropout1(x)\n",
    "        x = x.view(-1, 32 * 14 * 14)\n",
    "        x = F.relu(self.fc1(x))\n",
    "        x = self.dropout2(x)\n",
    "        x = self.fc2(x)\n",
    "        return x\n",
    "\n",
    "model = SimpleCNN()\n",
    "criterion = nn.CrossEntropyLoss()\n",
    "optimizer = optim.Adam(model.parameters(), lr=0.001)"
   ]
  },
  {
   "cell_type": "markdown",
   "id": "dec01504",
   "metadata": {},
   "source": [
    "# Training Explanation\n",
    "Trains the CNN over 10 epochs: For each batch, forward pass predicts, loss measures error, backward updates weights. Loss should decrease, indicating learning."
   ]
  },
  {
   "cell_type": "code",
   "execution_count": 4,
   "id": "46ec834c",
   "metadata": {},
   "outputs": [
    {
     "name": "stdout",
     "output_type": "stream",
     "text": [
      "Epoch 1/10, Loss: 0.3504\n",
      "Epoch 2/10, Loss: 0.1640\n",
      "Epoch 3/10, Loss: 0.1344\n",
      "Epoch 4/10, Loss: 0.1125\n",
      "Epoch 5/10, Loss: 0.1017\n",
      "Epoch 6/10, Loss: 0.0888\n",
      "Epoch 7/10, Loss: 0.0812\n",
      "Epoch 8/10, Loss: 0.0745\n",
      "Epoch 9/10, Loss: 0.0668\n",
      "Epoch 10/10, Loss: 0.0629\n"
     ]
    }
   ],
   "source": [
    "num_epochs = 10\n",
    "for epoch in range(num_epochs):\n",
    "    model.train()  # Training mode\n",
    "    running_loss = 0.0\n",
    "    for images, labels in train_loader:\n",
    "        optimizer.zero_grad()  # Reset gradients\n",
    "        outputs = model(images)\n",
    "        loss = criterion(outputs, labels)\n",
    "        loss.backward()  # Backprop\n",
    "        optimizer.step()  # Update weights\n",
    "        running_loss += loss.item()\n",
    "    print(f\"Epoch {epoch+1}/{num_epochs}, Loss: {running_loss / len(train_loader):.4f}\")"
   ]
  },
  {
   "cell_type": "markdown",
   "id": "a9650581",
   "metadata": {},
   "source": [
    "# Evaluation Explanation\n",
    "Evaluates on test data: No gradients for speed; accuracy ~98%. Visualizes misclassified images to understand errors."
   ]
  },
  {
   "cell_type": "code",
   "execution_count": 7,
   "id": "a8bace25",
   "metadata": {},
   "outputs": [
    {
     "name": "stdout",
     "output_type": "stream",
     "text": [
      "Test Accuracy: 98.68%\n"
     ]
    },
    {
     "data": {
      "image/png": "[encoded data removed]",
      "text/plain": [
       "<Figure size 640x480 with 1 Axes>"
      ]
     },
     "metadata": {},
     "output_type": "display_data"
    }
   ],
   "source": [
    "# Evaluate and Visualize Explanation\n",
    "# Evaluates on test data: No gradients for speed; accuracy ~98%. Saves a misclassified image to show error analysis.\n",
    "model.eval()  # Evaluation mode\n",
    "correct = 0\n",
    "total = 0\n",
    "with torch.no_grad():  # No gradients\n",
    "    for images, labels in test_loader:\n",
    "        outputs = model(images)\n",
    "        _, predicted = torch.max(outputs.data, 1)\n",
    "        total += labels.size(0)\n",
    "        correct += (predicted == labels).sum().item()\n",
    "print(f\"Test Accuracy: {100 * correct / total:.2f}%\")\n",
    "\n",
    "# Visualize misclassifications (example) and save\n",
    "misclassified = []\n",
    "with torch.no_grad():\n",
    "    for images, labels in test_loader:\n",
    "        outputs = model(images)\n",
    "        _, predicted = torch.max(outputs.data, 1)\n",
    "        for idx, (pred, actual) in enumerate(zip(predicted, labels)):\n",
    "            if pred != actual:\n",
    "                misclassified.append((images[idx], pred.item(), actual.item()))\n",
    "                break  # Take first misclassification per batch\n",
    "if len(misclassified) > 0:\n",
    "    img, pred, actual = misclassified[0]\n",
    "    plt.imshow(img.squeeze(), cmap='gray')\n",
    "    plt.title(f'Predicted: {pred}, Actual: {actual}')\n",
    "    plt.axis('off')\n",
    "    plt.savefig('misclassified.png', bbox_inches='tight')  # Save plot\n",
    "    plt.show()\n",
    "else:\n",
    "    print(\"No misclassifications found!\")"
   ]
  },
  {
   "cell_type": "markdown",
   "id": "5a163b85",
   "metadata": {},
   "source": [
    "# Debug Explanation\n",
    "Checks for overfitting; GPU accelerates if available. Save model to load later."
   ]
  },
  {
   "cell_type": "code",
   "execution_count": 6,
   "id": "cab28f7b",
   "metadata": {},
   "outputs": [
    {
     "name": "stdout",
     "output_type": "stream",
     "text": [
      "Train Accuracy: 99.52%\n"
     ]
    }
   ],
   "source": [
    "# Debug: Train accuracy (for overfitting check)\n",
    "train_correct = 0\n",
    "train_total = 0\n",
    "model.eval()\n",
    "with torch.no_grad():\n",
    "    for images, labels in train_loader:\n",
    "        outputs = model(images)\n",
    "        _, predicted = torch.max(outputs.data, 1)\n",
    "        train_total += labels.size(0)\n",
    "        train_correct += (predicted == labels).sum().item()\n",
    "print(f\"Train Accuracy: {100 * train_correct / train_total:.2f}%\")\n",
    "\n",
    "# Enhance: GPU if available\n",
    "device = torch.device('cuda' if torch.cuda.is_available() else 'cpu')\n",
    "model.to(device)  # Move model to GPU (rerun training after)\n",
    "\n",
    "# Save model\n",
    "torch.save(model.state_dict(), 'digit_model.pth')"
   ]
  }
 ],
 "metadata": {
  "kernelspec": {
   "display_name": "ai_env",
   "language": "python",
   "name": "python3"
  },
  "language_info": {
   "codemirror_mode": {
    "name": "ipython",
    "version": 3
   },
   "file_extension": ".py",
   "mimetype": "text/x-python",
   "name": "python",
   "nbconvert_exporter": "python",
   "pygments_lexer": "ipython3",
   "version": "3.12.11"
  }
 },
 "nbformat": 4,
 "nbformat_minor": 5
}
