{
 "cells": [
  {
   "cell_type": "code",
   "execution_count": 1,
   "id": "42131b77",
   "metadata": {},
   "outputs": [
    {
     "name": "stderr",
     "output_type": "stream",
     "text": [
      "c:\\Users\\rober\\anaconda3\\envs\\ai_env\\Lib\\site-packages\\tqdm\\auto.py:21: TqdmWarning: IProgress not found. Please update jupyter and ipywidgets. See https://ipywidgets.readthedocs.io/en/stable/user_install.html\n",
      "  from .autonotebook import tqdm as notebook_tqdm\n"
     ]
    }
   ],
   "source": [
    "import pandas as pd\n",
    "from transformers import pipeline\n",
    "from sklearn.metrics import accuracy_score\n",
    "import matplotlib.pyplot as plt"
   ]
  },
  {
   "cell_type": "code",
   "execution_count": 2,
   "id": "71491e62",
   "metadata": {},
   "outputs": [
    {
     "name": "stdout",
     "output_type": "stream",
     "text": [
      "                                                  review sentiment\n",
      "3793   I watched the DVD of this movie which also com...  positive\n",
      "42173  The Haunted World of Edward D. Wood, Jr. isn't...  positive\n",
      "18248  This film is about a young Indian guy who come...  positive\n",
      "47892  I remember when I was five and my parents thou...  positive\n",
      "24054  Tom Stern and Jeremy Slate are swing bachelor'...  negative\n"
     ]
    }
   ],
   "source": [
    "df = pd.read_csv('IMDB Dataset.csv')  # Adjust if filename differs\n",
    "df = df.sample(1000)  # Subset for speed\n",
    "print(df.head())"
   ]
  },
  {
   "cell_type": "code",
   "execution_count": 3,
   "id": "9a3b0f35",
   "metadata": {},
   "outputs": [
    {
     "name": "stderr",
     "output_type": "stream",
     "text": [
      "Device set to use cpu\n"
     ]
    },
    {
     "name": "stdout",
     "output_type": "stream",
     "text": [
      "Accuracy: 0.90\n"
     ]
    }
   ],
   "source": [
    "classifier = pipeline('sentiment-analysis', model='distilbert-base-uncased-finetuned-sst-2-english', framework='pt')  # PyTorch backend\n",
    "results = classifier(df['review'].tolist()[:100], truncation=True, max_length=512)  # Batch first 100 with truncation\n",
    "preds = [1 if res['label'] == 'POSITIVE' else 0 for res in results]\n",
    "actual = [1 if label == 'positive' else 0 for label in df['sentiment'][:100]]\n",
    "print(f\"Accuracy: {accuracy_score(actual, preds):.2f}\")"
   ]
  },
  {
   "cell_type": "code",
   "execution_count": 4,
   "id": "52f9dd9a",
   "metadata": {},
   "outputs": [
    {
     "data": {
      "image/png": "[encoded data removed]",
      "text/plain": [
       "<Figure size 640x480 with 1 Axes>"
      ]
     },
     "metadata": {},
     "output_type": "display_data"
    }
   ],
   "source": [
    "scores = [res['score'] for res in results]\n",
    "plt.hist(scores, bins=10)\n",
    "plt.title('Confidence Scores')\n",
    "plt.xlabel('Confidence Score')\n",
    "plt.ylabel('Frequency')\n",
    "plt.show()"
   ]
  },
  {
   "cell_type": "code",
   "execution_count": 5,
   "id": "c8531b62",
   "metadata": {},
   "outputs": [
    {
     "name": "stdout",
     "output_type": "stream",
     "text": [
      "Length: 358 words\n",
      "[{'label': 'POSITIVE', 'score': 0.9952185750007629}]\n"
     ]
    }
   ],
   "source": [
    "# Check a long review\n",
    "long_review = df['review'].iloc[0]  # First review\n",
    "print(f\"Length: {len(long_review.split())} words\")\n",
    "print(classifier(long_review, truncation=True, max_length=512))"
   ]
  },
  {
   "cell_type": "code",
   "execution_count": 6,
   "id": "840cbb42",
   "metadata": {},
   "outputs": [
    {
     "name": "stdout",
     "output_type": "stream",
     "text": [
      "Misclassified count: 10\n",
      "Text: \"The Mayor Of Hell\" has the feel of an early Dead End Kids film, but with a much harder edge and ver... Predicted: 0, Actual: 1\n",
      "Text: I've heard a lot of different opinions about this film and then to find out that Paris Hilton was in... Predicted: 0, Actual: 1\n"
     ]
    }
   ],
   "source": [
    "misclassified = [(text, pred, act) for text, pred, act in zip(df['review'][:100], preds, actual) if pred != act]\n",
    "print(f\"Misclassified count: {len(misclassified)}\")\n",
    "for text, pred, act in misclassified[:2]:  # Show first two\n",
    "    print(f\"Text: {text[:100]}... Predicted: {pred}, Actual: {act}\")"
   ]
  },
  {
   "cell_type": "code",
   "execution_count": 7,
   "id": "16e9327c",
   "metadata": {},
   "outputs": [
    {
     "name": "stdout",
     "output_type": "stream",
     "text": [
      "[{'label': 'POSITIVE', 'score': 0.9998800754547119}, {'label': 'NEGATIVE', 'score': 0.9996398687362671}]\n"
     ]
    }
   ],
   "source": [
    "test_texts = [\"This movie was amazing!\", \"It was a terrible film.\"]\n",
    "print(classifier(test_texts, truncation=True, max_length=512))"
   ]
  }
 ],
 "metadata": {
  "kernelspec": {
   "display_name": "ai_env",
   "language": "python",
   "name": "python3"
  },
  "language_info": {
   "codemirror_mode": {
    "name": "ipython",
    "version": 3
   },
   "file_extension": ".py",
   "mimetype": "text/x-python",
   "name": "python",
   "nbconvert_exporter": "python",
   "pygments_lexer": "ipython3",
   "version": "3.12.11"
  }
 },
 "nbformat": 4,
 "nbformat_minor": 5
}
