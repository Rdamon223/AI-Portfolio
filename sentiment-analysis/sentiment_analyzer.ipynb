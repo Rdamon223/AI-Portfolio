{
 "cells": [
  {
   "cell_type": "code",
   "execution_count": 1,
   "id": "42131b77",
   "metadata": {},
   "outputs": [
    {
     "name": "stderr",
     "output_type": "stream",
     "text": [
      "c:\\Users\\rober\\anaconda3\\envs\\ai_env\\Lib\\site-packages\\tqdm\\auto.py:21: TqdmWarning: IProgress not found. Please update jupyter and ipywidgets. See https://ipywidgets.readthedocs.io/en/stable/user_install.html\n",
      "  from .autonotebook import tqdm as notebook_tqdm\n"
     ]
    }
   ],
   "source": [
    "import pandas as pd\n",
    "from transformers import pipeline\n",
    "from sklearn.metrics import accuracy_score\n",
    "import matplotlib.pyplot as plt"
   ]
  },
  {
   "cell_type": "code",
   "execution_count": 2,
   "id": "71491e62",
   "metadata": {},
   "outputs": [
    {
     "name": "stdout",
     "output_type": "stream",
     "text": [
      "                                                  review sentiment\n",
      "41796  Tintin and I recently aired as an episode of P...  positive\n",
      "37389  While the sparkling chemistry between Ryan and...  positive\n",
      "37178  Let me preface by stating that I have lived in...  negative\n",
      "39358  This wonderfully witty comedy-drama wowed the ...  positive\n",
      "32872  This show is freaking hilarious! the jokes are...  positive\n"
     ]
    }
   ],
   "source": [
    "df = pd.read_csv('IMDB Dataset.csv')  # Adjust if filename differs\n",
    "df = df.sample(1000)  # Subset for speed\n",
    "print(df.head())"
   ]
  },
  {
   "cell_type": "code",
   "execution_count": 4,
   "id": "9a3b0f35",
   "metadata": {},
   "outputs": [
    {
     "name": "stderr",
     "output_type": "stream",
     "text": [
      "Device set to use cpu\n"
     ]
    },
    {
     "name": "stdout",
     "output_type": "stream",
     "text": [
      "Accuracy: 0.87\n"
     ]
    }
   ],
   "source": [
    "classifier = pipeline('sentiment-analysis', model='distilbert-base-uncased-finetuned-sst-2-english', framework='pt')  # PyTorch backend\n",
    "results = classifier(df['review'].tolist()[:100], truncation=True, max_length=512)  # Batch first 100 with truncation\n",
    "preds = [1 if res['label'] == 'POSITIVE' else 0 for res in results]\n",
    "actual = [1 if label == 'positive' else 0 for label in df['sentiment'][:100]]\n",
    "print(f\"Accuracy: {accuracy_score(actual, preds):.2f}\")"
   ]
  },
  {
   "cell_type": "code",
   "execution_count": 5,
   "id": "52f9dd9a",
   "metadata": {},
   "outputs": [
    {
     "data": {
      "image/png": "[encoded data removed]",
      "text/plain": [
       "<Figure size 640x480 with 1 Axes>"
      ]
     },
     "metadata": {},
     "output_type": "display_data"
    }
   ],
   "source": [
    "scores = [res['score'] for res in results]\n",
    "plt.hist(scores, bins=10)\n",
    "plt.title('Confidence Scores')\n",
    "plt.xlabel('Confidence Score')\n",
    "plt.ylabel('Frequency')\n",
    "plt.show()"
   ]
  },
  {
   "cell_type": "code",
   "execution_count": 6,
   "id": "c8531b62",
   "metadata": {},
   "outputs": [
    {
     "name": "stdout",
     "output_type": "stream",
     "text": [
      "Length: 356 words\n",
      "[{'label': 'POSITIVE', 'score': 0.9970241189002991}]\n"
     ]
    }
   ],
   "source": [
    "# Check a long review\n",
    "long_review = df['review'].iloc[0]  # First review\n",
    "print(f\"Length: {len(long_review.split())} words\")\n",
    "print(classifier(long_review, truncation=True, max_length=512))"
   ]
  },
  {
   "cell_type": "code",
   "execution_count": 7,
   "id": "840cbb42",
   "metadata": {},
   "outputs": [
    {
     "name": "stdout",
     "output_type": "stream",
     "text": [
      "Misclassified count: 13\n",
      "Text: I believe there are two angles to the story, first, it's the world satyric view, presented in an obv... Predicted: 0, Actual: 1\n",
      "Text: CAMILLE 2000 <br /><br />Aspect ratio: 2.35:1 (Panavision)<br /><br />Sound format: Mono<br /><br />... Predicted: 1, Actual: 0\n"
     ]
    }
   ],
   "source": [
    "misclassified = [(text, pred, act) for text, pred, act in zip(df['review'][:100], preds, actual) if pred != act]\n",
    "print(f\"Misclassified count: {len(misclassified)}\")\n",
    "for text, pred, act in misclassified[:2]:  # Show first two\n",
    "    print(f\"Text: {text[:100]}... Predicted: {pred}, Actual: {act}\")"
   ]
  },
  {
   "cell_type": "code",
   "execution_count": 8,
   "id": "16e9327c",
   "metadata": {},
   "outputs": [
    {
     "name": "stdout",
     "output_type": "stream",
     "text": [
      "[{'label': 'POSITIVE', 'score': 0.9998800754547119}, {'label': 'NEGATIVE', 'score': 0.9996398687362671}]\n"
     ]
    }
   ],
   "source": [
    "test_texts = [\"This movie was amazing!\", \"It was a terrible film.\"]\n",
    "print(classifier(test_texts, truncation=True, max_length=512))"
   ]
  }
 ],
 "metadata": {
  "kernelspec": {
   "display_name": "ai_env",
   "language": "python",
   "name": "python3"
  },
  "language_info": {
   "codemirror_mode": {
    "name": "ipython",
    "version": 3
   },
   "file_extension": ".py",
   "mimetype": "text/x-python",
   "name": "python",
   "nbconvert_exporter": "python",
   "pygments_lexer": "ipython3",
   "version": "3.12.11"
  }
 },
 "nbformat": 4,
 "nbformat_minor": 5
}
